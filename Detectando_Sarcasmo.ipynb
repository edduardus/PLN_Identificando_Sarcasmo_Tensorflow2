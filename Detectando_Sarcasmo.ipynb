{
 "cells": [
  {
   "cell_type": "markdown",
   "metadata": {},
   "source": [
    "# Detectando Sarcasmos em passagens de textos"
   ]
  },
  {
   "cell_type": "code",
   "execution_count": 1,
   "metadata": {},
   "outputs": [
    {
     "name": "stdout",
     "output_type": "stream",
     "text": [
      "Versão da Linguagem Python Usada Neste Jupyter Notebook: 3.8.2\n"
     ]
    }
   ],
   "source": [
    "# Versão da Linguagem Python utilizada\n",
    "from platform import python_version\n",
    "print('Versão da Linguagem Python Usada Neste Jupyter Notebook:', python_version())"
   ]
  },
  {
   "cell_type": "markdown",
   "metadata": {},
   "source": [
    "## 1 - Definição do Problema"
   ]
  },
  {
   "cell_type": "markdown",
   "metadata": {},
   "source": [
    "Este projeto tem o objetivo de identificar se uma passagem de texto é sarcasmo ou não. \n",
    "\n",
    "Estudos sobre a detecção de sarcasmo usam principalmente conjuntos de dados do Twitter coletados usando a supervisão baseada em hashtag, mas esses conjuntos de dados são muito ruidosos em termos de rótulos e idioma. Além disso, muitos tweets são respostas a outros tweets e a detecção de sarcasmo exige a disponibilidade de tweets contextuais.\n",
    "\n",
    "Para superar as limitações relacionadas ao ruído nos conjuntos de dados do Twitter, um grupo de pesquisadores da Universidade de Princeton nos EUA, criou um conjunto de dados de notícias para a Detecção de Sarcasmo. Os dados foram coletados em dois sites de notícias:\n",
    "\n",
    "O site <a href=https://www.theonion.com/>TheOnion</a> tem como objetivo produzir versões sarcásticas dos eventos atuais e foram coletadas todas as manchetes das categorias Notícias em Breve e Notícias em Fotos (que são sarcásticas). Coletaram ainda manchetes de notícias reais (e não sarcásticas) do <a href=https://www.huffpost.com/>HuffPost</a>.\n",
    "\n",
    "Aqui o link do estudo: https://arxiv.org/pdf/1704.05579.pdf\n",
    "\n",
    "Aqui o link do dataset: https://www.kaggle.com/rmisra/news-headlines-dataset-for-sarcasm-detection\n",
    "\n",
    "Este conjunto de dados tem as seguintes vantagens sobre os conjuntos de dados do Twitter:\n",
    "\n",
    "- Como as manchetes das notícias são escritas por profissionais de maneira formal, não há erros ortográficos e uso informal. Isso reduz a escassez de dados pois teremos menos trabalho de limpeza.\n",
    "\n",
    "\n",
    "- Além disso, como o único objetivo do TheOnion é publicar notícias sarcásticas, obtemos rótulos de alta qualidade com muito menos ruído em comparação com os conjuntos de dados do Twitter.\n",
    "\n",
    "\n",
    "- Diferentemente dos tweets que são respostas a outros tweets, as manchetes obtidas são independentes. Isso nos ajuda a separar os verdadeiros elementos sarcásticos."
   ]
  },
  {
   "cell_type": "code",
   "execution_count": 2,
   "metadata": {},
   "outputs": [
    {
     "name": "stderr",
     "output_type": "stream",
     "text": [
      "Using TensorFlow backend.\n"
     ]
    }
   ],
   "source": [
    "# Imports\n",
    "import json\n",
    "import numpy as np\n",
    "import tensorflow as tf\n",
    "import keras\n",
    "import matplotlib.pyplot as plt\n",
    "import matplotlib\n",
    "from tensorflow import keras\n",
    "from tensorflow.keras.preprocessing.text import Tokenizer\n",
    "from tensorflow.keras.preprocessing.sequence import pad_sequences"
   ]
  },
  {
   "cell_type": "code",
   "execution_count": 3,
   "metadata": {},
   "outputs": [
    {
     "name": "stdout",
     "output_type": "stream",
     "text": [
      "Versões de Pacotes\n",
      "numpy            1.18.2\n",
      "tensorflow       2.2.0-rc2\n",
      "matplotlib       3.2.1\n",
      "tensorflow.keras 2.3.0-tf\n",
      "json             2.0.9\n",
      "\n"
     ]
    }
   ],
   "source": [
    "# Versões dos pacotes usados neste jupyter notebook\n",
    "%reload_ext watermark\n",
    "print(\"Versões de Pacotes\")\n",
    "%watermark --iversions"
   ]
  },
  {
   "cell_type": "markdown",
   "metadata": {},
   "source": [
    "## 2 - Carga dos Dados"
   ]
  },
  {
   "cell_type": "markdown",
   "metadata": {},
   "source": [
    "Cada registro tem 3 atributos\n",
    "- is_sarcastic: 1 se o registro for sarcástico, caso contrário 0\n",
    "- headline: a manchete da reportagem\n",
    "- article_link: link para o artigo de notícias original. Útil na coleta de dados suplementares"
   ]
  },
  {
   "cell_type": "code",
   "execution_count": 4,
   "metadata": {},
   "outputs": [],
   "source": [
    "# Carregando os dados\n",
    "with open(\"data/Sarcasm_Headlines_Dataset.json\") as file:\n",
    "    dados = json.load(file)"
   ]
  },
  {
   "cell_type": "code",
   "execution_count": 5,
   "metadata": {},
   "outputs": [
    {
     "data": {
      "text/plain": [
       "26709"
      ]
     },
     "execution_count": 5,
     "metadata": {},
     "output_type": "execute_result"
    }
   ],
   "source": [
    "len(dados)"
   ]
  },
  {
   "cell_type": "code",
   "execution_count": 6,
   "metadata": {},
   "outputs": [
    {
     "data": {
      "text/plain": [
       "{'article_link': 'https://www.huffingtonpost.com/entry/versace-black-code_us_5861fbefe4b0de3a08f600d5',\n",
       " 'headline': \"former versace store clerk sues over secret 'black code' for minority shoppers\",\n",
       " 'is_sarcastic': 0}"
      ]
     },
     "execution_count": 6,
     "metadata": {},
     "output_type": "execute_result"
    }
   ],
   "source": [
    "dados[0]"
   ]
  },
  {
   "cell_type": "code",
   "execution_count": 7,
   "metadata": {},
   "outputs": [],
   "source": [
    "# Separando as variáveis\n",
    "article_link = []\n",
    "headline = []\n",
    "sarcastic = []\n",
    "for content in dados:\n",
    "    article_link.append(content[\"article_link\"])\n",
    "    headline.append(content[\"headline\"])\n",
    "    sarcastic.append(content[\"is_sarcastic\"])"
   ]
  },
  {
   "cell_type": "markdown",
   "metadata": {},
   "source": [
    "## 3 - Pré-processamento"
   ]
  },
  {
   "cell_type": "markdown",
   "metadata": {},
   "source": [
    "### 3.1 - Separação dos dados"
   ]
  },
  {
   "cell_type": "code",
   "execution_count": 8,
   "metadata": {},
   "outputs": [],
   "source": [
    "# Separando os dados\n",
    "\n",
    "qt_registros_treino = 15000\n",
    "\n",
    "# Dados de entrada (X)\n",
    "x_treino = headline[:qt_registros_treino]\n",
    "x_teste = headline[qt_registros_treino:]\n",
    "\n",
    "# Dados de saída (Y)\n",
    "y_treino = sarcastic[:qt_registros_treino]\n",
    "y_teste = sarcastic[qt_registros_treino:]"
   ]
  },
  {
   "cell_type": "code",
   "execution_count": 9,
   "metadata": {},
   "outputs": [
    {
     "data": {
      "text/plain": [
       "(15000, 11709)"
      ]
     },
     "execution_count": 9,
     "metadata": {},
     "output_type": "execute_result"
    }
   ],
   "source": [
    "len(x_treino),len(x_teste)"
   ]
  },
  {
   "cell_type": "markdown",
   "metadata": {},
   "source": [
    "### 3.2 - Tokenização"
   ]
  },
  {
   "cell_type": "code",
   "execution_count": 10,
   "metadata": {},
   "outputs": [],
   "source": [
    "# A função Tokenizer recebe 2 parâmetros:\n",
    "### - num_words: número máximo de palavras a serem mantidas, com base na frequência das palavras. Somente as palavras com a frequência máxima serão mantidas.\n",
    "### - oov_token: usado para substituir palavras fora do vocabulário durante chamadas text_to_sequence\n",
    "\n",
    "vocabulario = 10000\n",
    "oov_token = \"<OOV>\"\n",
    "\n",
    "tokenizer = Tokenizer(num_words = vocabulario, oov_token = oov_token)\n",
    "tokenizer.fit_on_texts(x_treino)\n",
    "x_treino = tokenizer.texts_to_sequences(x_treino) "
   ]
  },
  {
   "cell_type": "code",
   "execution_count": 11,
   "metadata": {},
   "outputs": [],
   "source": [
    "x_teste = tokenizer.texts_to_sequences(x_teste) "
   ]
  },
  {
   "cell_type": "markdown",
   "metadata": {},
   "source": [
    "### 3.3 Padding"
   ]
  },
  {
   "cell_type": "code",
   "execution_count": 12,
   "metadata": {},
   "outputs": [],
   "source": [
    "# A função pad_sequences do Keras recebe os seguintes parâmetros:\n",
    "### - sequences: Lista de listas, onde cada elemento é uma sequência.\n",
    "### - maxlen: Int, comprimento máximo de todas as sequências.\n",
    "### - padding: String, 'pre' ou 'post': inclui antes ou depois de cada sequência.\n",
    "### - truncating: String, 'pre' ou 'post': remova valores de sequências maiores que maxlen, no início ou no final das sequências.\n",
    "\n",
    "# https://www.tensorflow.org/api_docs/python/tf/keras/preprocessing/sequence/pad_sequences\n",
    "\n",
    "# Parâmetros\n",
    "padding = 'post'\n",
    "trunc = 'post'\n",
    "max_length = 100\n",
    "\n",
    "# Sequence Padding nos dados de treino\n",
    "padded_x_treino = pad_sequences(x_treino, \n",
    "                                padding = padding, \n",
    "                                truncating = trunc, \n",
    "                                maxlen = max_length)"
   ]
  },
  {
   "cell_type": "code",
   "execution_count": 13,
   "metadata": {},
   "outputs": [],
   "source": [
    "# Sequence Padding nos dados de teste\n",
    "padded_x_teste = pad_sequences(x_teste, \n",
    "                               padding = padding, \n",
    "                               truncating = trunc, \n",
    "                               maxlen = max_length)"
   ]
  },
  {
   "cell_type": "code",
   "execution_count": 14,
   "metadata": {},
   "outputs": [
    {
     "data": {
      "text/plain": [
       "((15000, 100), (15000,), (11709, 100), (11709,))"
      ]
     },
     "execution_count": 14,
     "metadata": {},
     "output_type": "execute_result"
    }
   ],
   "source": [
    "# Converte todas as estruturas para array NumPy\n",
    "\n",
    "# Converte X\n",
    "x_treino = np.array(padded_x_treino)\n",
    "x_teste = np.array(padded_x_teste)\n",
    "\n",
    "# Converte y\n",
    "y_treino = np.array(y_treino)\n",
    "y_teste = np.array(y_teste)\n",
    "\n",
    "x_treino.shape, y_treino.shape, x_teste.shape, y_teste.shape"
   ]
  },
  {
   "cell_type": "markdown",
   "metadata": {},
   "source": [
    "## 4 - Rede Neural"
   ]
  },
  {
   "cell_type": "code",
   "execution_count": 15,
   "metadata": {},
   "outputs": [],
   "source": [
    "# Dimensões embedding\n",
    "embedding_dim = 16\n",
    "\n",
    "# Cria a sequência de camadas\n",
    "model = keras.Sequential()\n",
    "\n",
    "# Camada de entrada\n",
    "model.add(keras.layers.Embedding(vocabulario, embedding_dim, input_length = max_length))\n",
    "\n",
    "# Camada Global de Pooling para reduzir a dimensionalidade da camada de entrada\n",
    "model.add(keras.layers.GlobalAveragePooling1D())\n",
    "\n",
    "# Camada oculta densa com ativação relu\n",
    "model.add(keras.layers.Dense(24, activation = 'relu'))\n",
    "\n",
    "# Camada de saída com ativação sigmoide para prever as probabilidades\n",
    "model.add(keras.layers.Dense(1, activation = 'sigmoid'))\n",
    "\n",
    "# Compila o modelo com o otimizador, função de custo e métrica de avaliação\n",
    "model.compile(optimizer = \"adam\", loss = keras.losses.BinaryCrossentropy(), metrics = ['accuracy'])"
   ]
  },
  {
   "cell_type": "code",
   "execution_count": 16,
   "metadata": {},
   "outputs": [
    {
     "name": "stdout",
     "output_type": "stream",
     "text": [
      "Model: \"sequential\"\n",
      "_________________________________________________________________\n",
      "Layer (type)                 Output Shape              Param #   \n",
      "=================================================================\n",
      "embedding (Embedding)        (None, 100, 16)           160000    \n",
      "_________________________________________________________________\n",
      "global_average_pooling1d (Gl (None, 16)                0         \n",
      "_________________________________________________________________\n",
      "dense (Dense)                (None, 24)                408       \n",
      "_________________________________________________________________\n",
      "dense_1 (Dense)              (None, 1)                 25        \n",
      "=================================================================\n",
      "Total params: 160,433\n",
      "Trainable params: 160,433\n",
      "Non-trainable params: 0\n",
      "_________________________________________________________________\n"
     ]
    }
   ],
   "source": [
    "model.summary()"
   ]
  },
  {
   "cell_type": "code",
   "execution_count": 17,
   "metadata": {},
   "outputs": [
    {
     "name": "stdout",
     "output_type": "stream",
     "text": [
      "Epoch 1/10\n",
      "469/469 [==============================] - 3s 6ms/step - loss: 0.6832 - accuracy: 0.5547 - val_loss: 0.6607 - val_accuracy: 0.5718\n",
      "Epoch 2/10\n",
      "469/469 [==============================] - 3s 6ms/step - loss: 0.5392 - accuracy: 0.7679 - val_loss: 0.4394 - val_accuracy: 0.8142\n",
      "Epoch 3/10\n",
      "469/469 [==============================] - 3s 6ms/step - loss: 0.3609 - accuracy: 0.8579 - val_loss: 0.3731 - val_accuracy: 0.8406\n",
      "Epoch 4/10\n",
      "469/469 [==============================] - 3s 6ms/step - loss: 0.2914 - accuracy: 0.8892 - val_loss: 0.3748 - val_accuracy: 0.8305\n",
      "Epoch 5/10\n",
      "469/469 [==============================] - 3s 6ms/step - loss: 0.2487 - accuracy: 0.9074 - val_loss: 0.3445 - val_accuracy: 0.8504\n",
      "Epoch 6/10\n",
      "469/469 [==============================] - 3s 6ms/step - loss: 0.2159 - accuracy: 0.9193 - val_loss: 0.3493 - val_accuracy: 0.8480\n",
      "Epoch 7/10\n",
      "469/469 [==============================] - 3s 6ms/step - loss: 0.1904 - accuracy: 0.9292 - val_loss: 0.3474 - val_accuracy: 0.8530\n",
      "Epoch 8/10\n",
      "469/469 [==============================] - 3s 5ms/step - loss: 0.1672 - accuracy: 0.9395 - val_loss: 0.3552 - val_accuracy: 0.8518\n",
      "Epoch 9/10\n",
      "469/469 [==============================] - 3s 6ms/step - loss: 0.1494 - accuracy: 0.9466 - val_loss: 0.3720 - val_accuracy: 0.8466\n",
      "Epoch 10/10\n",
      "469/469 [==============================] - 3s 7ms/step - loss: 0.1342 - accuracy: 0.9545 - val_loss: 0.3879 - val_accuracy: 0.8485\n"
     ]
    }
   ],
   "source": [
    "# Treinamento do modelo\n",
    "modelo = model.fit(x_treino, \n",
    "                   y_treino, \n",
    "                   epochs = 10, \n",
    "                   validation_data = (x_teste, y_teste), \n",
    "                   verbose = 1)"
   ]
  },
  {
   "cell_type": "code",
   "execution_count": 18,
   "metadata": {},
   "outputs": [
    {
     "data": {
      "text/plain": [
       "dict_keys(['loss', 'accuracy', 'val_loss', 'val_accuracy'])"
      ]
     },
     "execution_count": 18,
     "metadata": {},
     "output_type": "execute_result"
    }
   ],
   "source": [
    "# Métricas disponíveis para o modelo\n",
    "modelo.history.keys()"
   ]
  },
  {
   "cell_type": "code",
   "execution_count": 19,
   "metadata": {},
   "outputs": [
    {
     "data": {
      "image/png": "[encoded data removed]",
      "text/plain": [
       "<Figure size 432x288 with 1 Axes>"
      ]
     },
     "metadata": {
      "needs_background": "light"
     },
     "output_type": "display_data"
    }
   ],
   "source": [
    "# Plot da Acurácia\n",
    "plt.plot(modelo.history['accuracy'])\n",
    "plt.plot(modelo.history['val_accuracy'])\n",
    "plt.xlabel('Epochs')\n",
    "plt.ylabel('Acurácia')\n",
    "plt.legend(['Acurácia em Treino', 'Acurácia em Teste'])\n",
    "plt.show()"
   ]
  },
  {
   "cell_type": "code",
   "execution_count": 20,
   "metadata": {},
   "outputs": [
    {
     "data": {
      "image/png": "[encoded data removed]",
      "text/plain": [
       "<Figure size 432x288 with 1 Axes>"
      ]
     },
     "metadata": {
      "needs_background": "light"
     },
     "output_type": "display_data"
    }
   ],
   "source": [
    "# Plot do Erro\n",
    "plt.plot(modelo.history['loss'])\n",
    "plt.plot(modelo.history['val_loss'])\n",
    "plt.xlabel('Epochs')\n",
    "plt.ylabel('Erro')\n",
    "plt.legend(['Erro em Treino', 'Erro em Teste'])\n",
    "plt.show()"
   ]
  },
  {
   "cell_type": "markdown",
   "metadata": {},
   "source": [
    "## 5 - Detectando Sarcasmo"
   ]
  },
  {
   "cell_type": "code",
   "execution_count": 21,
   "metadata": {},
   "outputs": [],
   "source": [
    "# Frases a serem verificadas\n",
    "texto = [\"I am actually not funny. I am just mean and people think I am joking\",\n",
    "         \"I’d be fine if there were not so much blood in my alcohol system\",\n",
    "         \"If you need so much space, there is always NASA\",\n",
    "         \"game of thrones season finale showing this sunday night\"]"
   ]
  },
  {
   "cell_type": "code",
   "execution_count": 22,
   "metadata": {},
   "outputs": [],
   "source": [
    "# Aplicação das transformações de dados\n",
    "sequences = tokenizer.texts_to_sequences(texto)\n",
    "padded = pad_sequences(sequences, maxlen = max_length, padding = padding, truncating = trunc)"
   ]
  },
  {
   "cell_type": "code",
   "execution_count": 23,
   "metadata": {},
   "outputs": [
    {
     "name": "stdout",
     "output_type": "stream",
     "text": [
      "WARNING:tensorflow:From <ipython-input-23-856c43bf351e>:2: Sequential.predict_classes (from tensorflow.python.keras.engine.sequential) is deprecated and will be removed after 2021-01-01.\n",
      "Instructions for updating:\n",
      "Please use instead:* `np.argmax(model.predict(x), axis=-1)`,   if your model does multi-class classification   (e.g. if it uses a `softmax` last-layer activation).* `(model.predict(x) > 0.5).astype(\"int32\")`,   if your model does binary classification   (e.g. if it uses a `sigmoid` last-layer activation).\n",
      "[[0]\n",
      " [1]\n",
      " [0]\n",
      " [0]]\n"
     ]
    }
   ],
   "source": [
    "# Previsões\n",
    "print(model.predict_classes(padded))"
   ]
  },
  {
   "cell_type": "code",
   "execution_count": 24,
   "metadata": {},
   "outputs": [
    {
     "name": "stdout",
     "output_type": "stream",
     "text": [
      "\n",
      "A Frase < I am actually not funny. I am just mean and people think I am joking > não é sarcasmo!\n",
      "\n",
      "A Frase < I’d be fine if there were not so much blood in my alcohol system > é sarcasmo!\n",
      "\n",
      "A Frase < If you need so much space, there is always NASA > não é sarcasmo!\n",
      "\n",
      "A Frase < game of thrones season finale showing this sunday night > não é sarcasmo!\n"
     ]
    }
   ],
   "source": [
    "# Aplicando a predição para cada uma das frases\n",
    "for i, frase in enumerate(texto):\n",
    "    previsao = model.predict_classes(padded)\n",
    "    if previsao[i] == 0:\n",
    "        print('\\nA Frase <', frase, '> não é sarcasmo!')\n",
    "    else:\n",
    "        print('\\nA Frase <', frase, '> é sarcasmo!')"
   ]
  }
 ],
 "metadata": {
  "kernelspec": {
   "display_name": "Python 3",
   "language": "python",
   "name": "python3"
  },
  "language_info": {
   "codemirror_mode": {
    "name": "ipython",
    "version": 3
   },
   "file_extension": ".py",
   "mimetype": "text/x-python",
   "name": "python",
   "nbconvert_exporter": "python",
   "pygments_lexer": "ipython3",
   "version": "3.8.2"
  }
 },
 "nbformat": 4,
 "nbformat_minor": 4
}
